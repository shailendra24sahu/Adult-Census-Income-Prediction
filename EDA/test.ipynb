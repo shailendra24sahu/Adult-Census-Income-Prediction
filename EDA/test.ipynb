{
 "cells": [
  {
   "cell_type": "code",
   "execution_count": 1,
   "metadata": {},
   "outputs": [
    {
     "data": {
      "text/plain": [
       "{'age': 'int64',\n",
       " 'workclass': 'O',\n",
       " 'fnlwgt': 'int64',\n",
       " 'education': 'O',\n",
       " 'education-num': 'int64',\n",
       " 'marital-status': 'O',\n",
       " 'occupation': 'O',\n",
       " 'relationship': 'O',\n",
       " 'race': 'O',\n",
       " 'sex': 'O',\n",
       " 'capital-gain': 'int64',\n",
       " 'capital-loss': 'int64',\n",
       " 'hours-per-week': 'int64',\n",
       " 'country': 'O',\n",
       " 'salary': 'O'}"
      ]
     },
     "execution_count": 1,
     "metadata": {},
     "output_type": "execute_result"
    }
   ],
   "source": [
    "{\"age\": \"Integer\",\n",
    " \"workclass\": \"Object\",\n",
    " \"fnlwgt\": \"Integer\",\n",
    " \"education\": \"Object\",\n",
    " \"education-num\": \"Integer\",\n",
    " \"marital-status\": \"Object\",\n",
    " \"occupation\": \"Object\",\n",
    " \"relationship\": \"Object\",\n",
    " \"race\": \"Object\",\n",
    " \"sex\": \"Object\",\n",
    " \"capital-gain\": \"Integer\",\n",
    " \"capital-loss\": \"Integer\",\n",
    " \"hours-per-week\": \"Integer\",\n",
    " \"country\": \"Object\",\n",
    " \"salary\": \"Object\"}"
   ]
  },
  {
   "cell_type": "code",
   "execution_count": 2,
   "metadata": {},
   "outputs": [],
   "source": [
    "import os\n",
    "\n",
    "cluster_number= 1\n",
    "folder_name='models/'\n",
    "list_of_model_files = []\n",
    "print_one = []\n",
    "print_two = []\n",
    "list_of_files = os.listdir(folder_name)\n",
    "for file in list_of_files:\n",
    "    try:\n",
    "        if (file.index(str(cluster_number))!=-1):\n",
    "            model_name=file\n",
    "            print_one.append(model_name)\n",
    "    except:\n",
    "        continue\n",
    "model_name=model_name.split('.')[0]\n",
    "print_two.append(model_name)"
   ]
  },
  {
   "cell_type": "code",
   "execution_count": 3,
   "metadata": {},
   "outputs": [
    {
     "data": {
      "text/plain": [
       "['XGBoost1']"
      ]
     },
     "execution_count": 3,
     "metadata": {},
     "output_type": "execute_result"
    }
   ],
   "source": [
    "print_one"
   ]
  },
  {
   "cell_type": "code",
   "execution_count": 4,
   "metadata": {},
   "outputs": [
    {
     "data": {
      "text/plain": [
       "['XGBoost1']"
      ]
     },
     "execution_count": 4,
     "metadata": {},
     "output_type": "execute_result"
    }
   ],
   "source": [
    "print_two"
   ]
  },
  {
   "cell_type": "code",
   "execution_count": 9,
   "metadata": {},
   "outputs": [
    {
     "data": {
      "text/plain": [
       "['KMeans', 'XGBoost0', 'XGBoost1', 'XGBoost2', 'XGBoost3']"
      ]
     },
     "execution_count": 9,
     "metadata": {},
     "output_type": "execute_result"
    }
   ],
   "source": [
    "list_of_files"
   ]
  },
  {
   "cell_type": "code",
   "execution_count": 8,
   "metadata": {},
   "outputs": [
    {
     "ename": "ValueError",
     "evalue": "substring not found",
     "output_type": "error",
     "traceback": [
      "\u001b[1;31m---------------------------------------------------------------------------\u001b[0m",
      "\u001b[1;31mValueError\u001b[0m                                Traceback (most recent call last)",
      "\u001b[1;32m~\\AppData\\Local\\Temp\\ipykernel_11964\\2617479554.py\u001b[0m in \u001b[0;36m<module>\u001b[1;34m\u001b[0m\n\u001b[0;32m      1\u001b[0m \u001b[1;32mfor\u001b[0m \u001b[0mfile\u001b[0m \u001b[1;32min\u001b[0m \u001b[0mlist_of_files\u001b[0m\u001b[1;33m:\u001b[0m\u001b[1;33m\u001b[0m\u001b[0m\n\u001b[1;32m----> 2\u001b[1;33m         \u001b[1;32mif\u001b[0m \u001b[1;33m(\u001b[0m\u001b[0mfile\u001b[0m\u001b[1;33m.\u001b[0m\u001b[0mindex\u001b[0m\u001b[1;33m(\u001b[0m\u001b[0mstr\u001b[0m\u001b[1;33m(\u001b[0m\u001b[0mcluster_number\u001b[0m\u001b[1;33m)\u001b[0m\u001b[1;33m)\u001b[0m\u001b[1;33m!=\u001b[0m\u001b[1;33m-\u001b[0m\u001b[1;36m1\u001b[0m\u001b[1;33m)\u001b[0m\u001b[1;33m:\u001b[0m\u001b[1;33m\u001b[0m\u001b[0m\n\u001b[0m\u001b[0;32m      3\u001b[0m                 \u001b[0mprint\u001b[0m\u001b[1;33m(\u001b[0m\u001b[0mfile\u001b[0m\u001b[1;33m.\u001b[0m\u001b[0mindex\u001b[0m\u001b[1;33m(\u001b[0m\u001b[0mstr\u001b[0m\u001b[1;33m(\u001b[0m\u001b[0mcluster_number\u001b[0m\u001b[1;33m)\u001b[0m\u001b[1;33m)\u001b[0m\u001b[1;33m)\u001b[0m\u001b[1;33m\u001b[0m\u001b[0m\n",
      "\u001b[1;31mValueError\u001b[0m: substring not found"
     ]
    }
   ],
   "source": [
    "for file in list_of_files:\n",
    "        if (file.index(str(cluster_number))!=-1):\n",
    "                print(file.index(str(cluster_number)))"
   ]
  },
  {
   "cell_type": "code",
   "execution_count": 3,
   "metadata": {},
   "outputs": [],
   "source": [
    "import os\n",
    "if not os.path.isdir(\"Training_Logs/\"):\n",
    "    os.makedirs('Training_Logs/')\n",
    "file = open(\"Training_Logs/valuesfromSchemaValidationLog.txt\", 'a+')"
   ]
  },
  {
   "cell_type": "code",
   "execution_count": null,
   "metadata": {},
   "outputs": [],
   "source": []
  }
 ],
 "metadata": {
  "kernelspec": {
   "display_name": "Python 3",
   "language": "python",
   "name": "python3"
  },
  "language_info": {
   "codemirror_mode": {
    "name": "ipython",
    "version": 3
   },
   "file_extension": ".py",
   "mimetype": "text/x-python",
   "name": "python",
   "nbconvert_exporter": "python",
   "pygments_lexer": "ipython3",
   "version": "3.7.0"
  },
  "orig_nbformat": 4
 },
 "nbformat": 4,
 "nbformat_minor": 2
}
