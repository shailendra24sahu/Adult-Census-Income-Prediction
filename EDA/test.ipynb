{
 "cells": [
  {
   "cell_type": "code",
   "execution_count": 1,
   "metadata": {},
   "outputs": [
    {
     "data": {
      "text/plain": [
       "{'age': 'int64',\n",
       " 'workclass': 'O',\n",
       " 'fnlwgt': 'int64',\n",
       " 'education': 'O',\n",
       " 'education-num': 'int64',\n",
       " 'marital-status': 'O',\n",
       " 'occupation': 'O',\n",
       " 'relationship': 'O',\n",
       " 'race': 'O',\n",
       " 'sex': 'O',\n",
       " 'capital-gain': 'int64',\n",
       " 'capital-loss': 'int64',\n",
       " 'hours-per-week': 'int64',\n",
       " 'country': 'O',\n",
       " 'salary': 'O'}"
      ]
     },
     "execution_count": 1,
     "metadata": {},
     "output_type": "execute_result"
    }
   ],
   "source": [
    "{\"age\": \"Integer\",\n",
    " \"workclass\": \"Object\",\n",
    " \"fnlwgt\": \"Integer\",\n",
    " \"education\": \"Object\",\n",
    " \"education-num\": \"Integer\",\n",
    " \"marital-status\": \"Object\",\n",
    " \"occupation\": \"Object\",\n",
    " \"relationship\": \"Object\",\n",
    " \"race\": \"Object\",\n",
    " \"sex\": \"Object\",\n",
    " \"capital-gain\": \"Integer\",\n",
    " \"capital-loss\": \"Integer\",\n",
    " \"hours-per-week\": \"Integer\",\n",
    " \"country\": \"Object\",\n",
    " \"salary\": \"Object\"}"
   ]
  }
 ],
 "metadata": {
  "kernelspec": {
   "display_name": "Python 3",
   "language": "python",
   "name": "python3"
  },
  "language_info": {
   "codemirror_mode": {
    "name": "ipython",
    "version": 3
   },
   "file_extension": ".py",
   "mimetype": "text/x-python",
   "name": "python",
   "nbconvert_exporter": "python",
   "pygments_lexer": "ipython3",
   "version": "3.7.0"
  },
  "orig_nbformat": 4
 },
 "nbformat": 4,
 "nbformat_minor": 2
}
